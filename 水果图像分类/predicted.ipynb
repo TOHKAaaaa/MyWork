{
 "cells": [
  {
   "cell_type": "code",
   "execution_count": 1,
   "metadata": {
    "collapsed": true
   },
   "outputs": [],
   "source": [
    "import torch\n",
    "from PIL import Image\n",
    "import torch.nn as nn\n",
    "from torch.utils.data import DataLoader\n",
    "from torchvision import transforms,datasets,models,utils"
   ]
  },
  {
   "cell_type": "code",
   "execution_count": 2,
   "metadata": {},
   "outputs": [],
   "source": [
    "#自定义池化层\n",
    "class AdaptiveConcatPool2d(nn.Module):\n",
    "    def __init__(self,size = None):\n",
    "        super(AdaptiveConcatPool2d,self).__init__()\n",
    "        size = size or (1,1) #kernel大小\n",
    "        #自适应算法能够自动计算核的大小和每次移动的步长\n",
    "        self.avgPooling = nn.AdaptiveAvgPool2d(size) #自适应平均池化\n",
    "        self.maxPooling = nn.AdaptiveMaxPool2d(size) #自适应最大池化\n",
    "    def forward(self,x): #前向传播\n",
    "        #拼接avg和max\n",
    "        return torch.cat([self.maxPooling(x),self.avgPooling(x)],dim = 1) #纵向拼接"
   ]
  },
  {
   "cell_type": "code",
   "execution_count": 3,
   "metadata": {},
   "outputs": [],
   "source": [
    "img_path = 'E:/大三下/计算机视觉/大作业/val'\n",
    "image_transforms = {\n",
    "        'valid': transforms.Compose([\n",
    "                    transforms.Resize(300),\n",
    "                    transforms.CenterCrop(256),\n",
    "                    transforms.ToTensor(),\n",
    "                    transforms.Normalize([0.485,0.456,0.406],\n",
    "                                         [0.229,0.224,0.225])\n",
    "                ])\n",
    "    }"
   ]
  },
  {
   "cell_type": "code",
   "execution_count": 4,
   "metadata": {
    "tags": []
   },
   "outputs": [],
   "source": [
    "datasets = {\n",
    "    'valid': datasets.ImageFolder(img_path,transform = image_transforms['valid'])\n",
    "}\n",
    "dataloaders = {\n",
    "    'valid': DataLoader(datasets['valid'])\n",
    "}\n"
   ]
  },
  {
   "cell_type": "code",
   "execution_count": 5,
   "metadata": {},
   "outputs": [
    {
     "output_type": "stream",
     "name": "stdout",
     "text": [
      "load finished!\n"
     ]
    }
   ],
   "source": [
    "model = torch.load('model_new.pth',map_location = torch.device('cpu'))\n",
    "model.eval()\n",
    "print(\"load finished!\")"
   ]
  },
  {
   "cell_type": "code",
   "execution_count": 6,
   "metadata": {},
   "outputs": [
    {
     "output_type": "stream",
     "name": "stdout",
     "text": [
      "tensor([0])\n",
      "tensor([7])\n",
      "tensor([7])\n",
      "tensor([7])\n",
      "tensor([7])\n",
      "tensor([7])\n",
      "tensor([6])\n",
      "tensor([6])\n",
      "tensor([6])\n",
      "tensor([6])\n",
      "tensor([6])\n",
      "tensor([0])\n",
      "tensor([4])\n",
      "tensor([4])\n",
      "tensor([4])\n",
      "tensor([4])\n",
      "tensor([4])\n",
      "tensor([1])\n",
      "tensor([0])\n",
      "tensor([1])\n",
      "tensor([1])\n",
      "tensor([1])\n",
      "tensor([1])\n",
      "tensor([0])\n",
      "tensor([0])\n",
      "tensor([5])\n",
      "tensor([5])\n",
      "tensor([5])\n",
      "tensor([5])\n",
      "tensor([5])\n",
      "tensor([2])\n",
      "tensor([2])\n",
      "tensor([2])\n",
      "tensor([2])\n",
      "tensor([2])\n",
      "tensor([3])\n",
      "tensor([3])\n",
      "tensor([3])\n",
      "tensor([3])\n",
      "tensor([3])\n"
     ]
    }
   ],
   "source": [
    "with torch.no_grad():\n",
    "    for batch_id,(images,labels) in enumerate(dataloaders['valid']):\n",
    "        outputs = model(images)\n",
    "        _,predicted = torch.max(outputs,dim = 1)\n",
    "        print(predicted)"
   ]
  }
 ],
 "metadata": {
  "kernelspec": {
   "name": "python376jvsc74a57bd06181ae43c4112023a306664fcdb5216c1414e0f67db34df00dd5ca1f1efaff62",
   "display_name": "Python 3.7.6 64-bit ('TensorFlow2': conda)"
  },
  "language_info": {
   "codemirror_mode": {
    "name": "ipython",
    "version": 3
   },
   "file_extension": ".py",
   "mimetype": "text/x-python",
   "name": "python",
   "nbconvert_exporter": "python",
   "pygments_lexer": "ipython3",
   "version": "3.7.6"
  }
 },
 "nbformat": 4,
 "nbformat_minor": 2
}